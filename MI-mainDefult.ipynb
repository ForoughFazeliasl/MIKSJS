{
 "cells": [
  {
   "cell_type": "code",
   "execution_count": 1,
   "id": "5b9f05f8-23b0-432d-8537-74b40624bd6e",
   "metadata": {},
   "outputs": [],
   "source": [
    "from IPython.core.interactiveshell import InteractiveShell\n",
    "InteractiveShell.ast_node_interactivity = \"all\""
   ]
  },
  {
   "cell_type": "code",
   "execution_count": 2,
   "id": "9cb62896-93ff-484f-8348-e14a889b94c9",
   "metadata": {},
   "outputs": [],
   "source": [
    "from tqdm import tqdm\n",
    "import matplotlib.pyplot as plt\n",
    "import numpy as np\n",
    "import torch\n",
    "import os\n",
    "import bdb  # import the bdb module\n",
    "from torch import nn\n",
    "from torch import optim\n",
    "from torch.nn import functional as F\n",
    "from torch import autograd\n",
    "from torch.autograd import Variable\n",
    "from torch.utils.data.dataset import Dataset\n",
    "from torch.utils.data import dataloader\n"
   ]
  },
  {
   "cell_type": "markdown",
   "id": "05eb32f1-6630-4853-81ba-225650d51f4d",
   "metadata": {},
   "source": [
    "# Example\n",
    ">   Z~N(0,1),\n",
    "> \n",
    ">  X=gen_x()=Sign(Z)\n",
    "> \n",
    ">  epsilon~N(0,var),\n",
    "> \n",
    ">  Y=gen_y(X)=X+epsilon"
   ]
  },
  {
   "cell_type": "markdown",
   "id": "26f7858c-a774-4390-9f76-65c156241664",
   "metadata": {},
   "source": [
    "# Interest\n",
    "\n",
    "> Estimate MI(X,Y)"
   ]
  },
  {
   "cell_type": "code",
   "execution_count": 3,
   "id": "78282880-d69f-4534-8965-fb5f17e0a9c5",
   "metadata": {},
   "outputs": [],
   "source": [
    "# data\n",
    "var = 0.2\n",
    "\n",
    "def func(x):\n",
    "    return x\n",
    "\n",
    "def gen_x():\n",
    "    return np.sign(np.random.normal(0.,1.,[data_size,dim]))\n",
    "\n",
    "def gen_y(x):\n",
    "    return func(x)+np.random.normal(0.,np.sqrt(var),[data_size,dim])"
   ]
  },
  {
   "cell_type": "code",
   "execution_count": 4,
   "id": "88273df7-1b4c-4b8a-b34a-f27e9e512979",
   "metadata": {},
   "outputs": [
    {
     "data": {
      "text/plain": [
       "0.620410342401145"
      ]
     },
     "execution_count": 4,
     "metadata": {},
     "output_type": "execute_result"
    }
   ],
   "source": [
    "# Manual code to compute Exact MI true (Only applicable for this example).\n",
    "## \n",
    "\n",
    "data_size = 100\n",
    "dim=1\n",
    "\n",
    "\n",
    "x=gen_x()\n",
    "y=gen_y(x)\n",
    "p_y_x=np.exp(-(y-x)**2/(2*var))\n",
    "p_y_x_minus=np.exp(-(y+1)**2/(2*var))\n",
    "p_y_x_plus=np.exp(-(y-1)**2/(2*var))\n",
    "mi=np.average(np.log(p_y_x/(0.5*p_y_x_minus+0.5*p_y_x_plus)))\n",
    "mi"
   ]
  },
  {
   "cell_type": "markdown",
   "id": "2dcd2a28-c1f0-42cc-a828-55b72cde3c12",
   "metadata": {},
   "source": [
    "# Using Simple Empirical approach in computing MI numerically"
   ]
  },
  {
   "cell_type": "code",
   "execution_count": 13,
   "id": "961cdf27-6434-42e5-88d1-79d07ccd1822",
   "metadata": {},
   "outputs": [
    {
     "data": {
      "text/plain": [
       "0.6913460990017387"
      ]
     },
     "execution_count": 13,
     "metadata": {},
     "output_type": "execute_result"
    }
   ],
   "source": [
    "# Computing Mutual Information (empirically)\n",
    "import numpy as np\n",
    "def computeMI(x, y):\n",
    "    sum_mi = 0.0\n",
    "    x_value_list = np.unique(x)\n",
    "    y_value_list = np.unique(y)\n",
    "    Px = np.array([ len(x[x==xval])/float(len(x)) for xval in x_value_list ]) #P(x)\n",
    "    Py = np.array([ len(y[y==yval])/float(len(y)) for yval in y_value_list ]) #P(y)\n",
    "    for i in range(len(x_value_list)):\n",
    "        if Px[i] ==0.:\n",
    "            continue\n",
    "        sy = y[x == x_value_list[i]]\n",
    "        if len(sy)== 0:\n",
    "            continue\n",
    "        pxy = np.array([len(sy[sy==yval])/float(len(y))  for yval in y_value_list]) #p(x,y)\n",
    "        t = pxy[Py>0.]/Py[Py>0.] /Px[i] # log(P(x,y)/( P(x)*P(y))\n",
    "        sum_mi += sum(pxy[t>0]*np.log( t[t>0]) ) # sum ( P(x,y)* log(P(x,y)/( P(x)*P(y)) )\n",
    "    return sum_mi\n",
    "computeMI(x, y)"
   ]
  },
  {
   "cell_type": "markdown",
   "id": "8b67746b-3911-48ec-b5e4-0104dd9c2c19",
   "metadata": {},
   "source": [
    "## MI estimation on CPU using MINE paper "
   ]
  },
  {
   "cell_type": "code",
   "execution_count": 7,
   "id": "5db39b46-434a-42ec-9b1f-185a83e7ee05",
   "metadata": {},
   "outputs": [
    {
     "name": "stderr",
     "output_type": "stream",
     "text": [
      "100%|██████████| 1500/1500 [00:11<00:00, 132.88it/s]\n"
     ]
    }
   ],
   "source": [
    "# MI estimation on GPU using MINE paper (the Best)\n",
    "class ConcatLayer(nn.Module):\n",
    "    def __init__(self, dim=1):\n",
    "        super().__init__()\n",
    "        self.dim = dim\n",
    "\n",
    "    def forward(self, x, y):\n",
    "        return torch.cat((x, y), self.dim)\n",
    "\n",
    "class CustomSequential(nn.Sequential):\n",
    "    def forward(self, *input):\n",
    "        for module in self._modules.values():\n",
    "            if isinstance(input, tuple):\n",
    "                input = module(*input)\n",
    "            else:\n",
    "                input = module(input)\n",
    "        return input\n",
    "\n",
    "class T(nn.Module):\n",
    "    def __init__(self, x_dim, z_dim):\n",
    "        super().__init__()\n",
    "        self.layers = CustomSequential(ConcatLayer(), nn.Linear(x_dim + z_dim, 400),\n",
    "                                       nn.ReLU(),\n",
    "                                       nn.Linear(400, 400),\n",
    "                                       nn.ReLU(),\n",
    "                                       nn.Linear(400, 400),\n",
    "                                       nn.ReLU(),\n",
    "                                       nn.Linear(400, 1))\n",
    "\n",
    "    def forward(self, x, z):\n",
    "        return self.layers(x, z)\n",
    "\n",
    "#----End of defining network T\n",
    "#\n",
    "\n",
    "#.............\n",
    "#>>>> Making T-network using Convolutional networks:\n",
    "class T_network_Conv(nn.Module):\n",
    "    def __init__(self, z_dim):\n",
    "        super().__init__()\n",
    "        self.conv1 = nn.Conv2d(1, 16, kernel_size=5,\n",
    "                               stride=2, padding=2, bias=False)\n",
    "        self.conv2 = nn.Conv2d(16, 32, kernel_size=5,\n",
    "                               stride=2, padding=2, bias=False)\n",
    "        self.conv3 = nn.Conv2d(32, 64, kernel_size=5,\n",
    "                               stride=2, padding=2, bias=False)\n",
    "\n",
    "        self.fc1 = nn.Linear(8 * 8 * 64, 1)\n",
    "\n",
    "        self.z_linear1 = nn.Linear(z_dim, 16)\n",
    "        self.z_linear2 = nn.Linear(z_dim, 32)\n",
    "        self.z_linear3 = nn.Linear(z_dim, 64)\n",
    "\n",
    "    def xz_block(self, x, z, x_layer, z_layer):\n",
    "        x_out = x_layer(x)\n",
    "        z_map = z_layer(z).unsqueeze(-1).unsqueeze(-1).expand_as(x_out)\n",
    "        return F.elu(x_out + z_map)\n",
    "\n",
    "    def forward(self, x, z):\n",
    "        x = self.xz_block(x, z, self.conv1, self.z_linear1)\n",
    "        x = self.xz_block(x, z, self.conv2, self.z_linear2)\n",
    "        x = self.xz_block(x, z, self.conv3, self.z_linear3)\n",
    "\n",
    "        x = x.view(x.size(0), -1)\n",
    "        return self.fc1(x)\n",
    "\n",
    "#----End of defining T_network_Conv\n",
    "#|||||||||||||||||||||||||||||\n",
    "\n",
    "KL=True\n",
    "JS=False\n",
    "dim1=1 #1000 #4096\n",
    "dim2=1 #1000 # 1000\n",
    "#dim=1000\n",
    "n_epoch =1500#500\n",
    "data_size = 100  # Also works well for size=4\n",
    "Tmodel=T(dim1,dim2).cuda()  # Add .cuda() to move the Tmodel to GPU\n",
    "#Tmodel_conv=T_network_Conv(dim2).cuda()\n",
    "optimizer = torch.optim.Adam(Tmodel.parameters(), lr=0.0002)\n",
    "\n",
    "# Active when use 'Tmodel_conv'\n",
    "#optimizer = torch.optim.Adam(Tmodel_conv.parameters(), lr=0.0002)\n",
    "\n",
    "plot_loss0 = []\n",
    "\n",
    "for epoch in tqdm(range(n_epoch)):\n",
    "    x_sample= gen_x() #np.random.normal(0.,1.,[data_size,dim1])#joint_samples[:, 0].reshape(data_size,1)#gen_x()\n",
    "    y_sample= gen_y(x_sample) #np.random.normal(0.,1.,[data_size,dim2])#gen_y(x_sample)\n",
    "    y_shuffle=np.random.permutation(y_sample)\n",
    "\n",
    "    x_sample = Variable(torch.from_numpy(x_sample).type(torch.FloatTensor).cuda(), requires_grad = True)  # Add .cuda() to move input variables to GPU\n",
    "    y_sample = Variable(torch.from_numpy(y_sample).type(torch.FloatTensor).cuda(), requires_grad = True)\n",
    "    y_shuffle = Variable(torch.from_numpy(y_shuffle).type(torch.FloatTensor).cuda(), requires_grad = True)\n",
    "\n",
    "    pred_xy = Tmodel(x_sample, y_sample) #Tmodel_conv(x_sample.reshape(data_size,1,64,64),y_sample) #Tmodel(x_sample, y_sample)\n",
    "    pred_x_y = Tmodel(x_sample, y_shuffle) #Tmodel_conv(x_sample.reshape(data_size,1,64,64),y_shuffle) #Tmodel(x_sample, y_shuffle)\n",
    "\n",
    "    if KL:\n",
    "        ret = torch.mean(pred_xy) - (torch.logsumexp(pred_x_y,0)-np.log(pred_x_y.shape[0]))\n",
    "        loss = - ret  # maximize\n",
    "    if JS:\n",
    "        ret = torch.mean(-F.softplus(-pred_xy, beta=1, threshold=20)+np.log(2)) - torch.mean(F.softplus(-pred_x_y, beta=1, threshold=20)-np.log(2)+pred_x_y)\n",
    "        loss = - ret  # maximize\n",
    "    plot_loss0.append(loss.data.cpu().numpy())  # Add .cpu() to move the loss back to CPU\n",
    "    Tmodel.zero_grad()\n",
    "    #Tmodel_conv.zero_grad()\n",
    "    bdb.set_trace()\n",
    "    loss.backward()\n",
    "    optimizer.step()"
   ]
  },
  {
   "cell_type": "code",
   "execution_count": 8,
   "id": "240e74b6-be0c-4ee3-85d8-5c9067d47f9e",
   "metadata": {},
   "outputs": [
    {
     "data": {
      "text/plain": [
       "[<matplotlib.lines.Line2D at 0x154dba8ee290>]"
      ]
     },
     "execution_count": 8,
     "metadata": {},
     "output_type": "execute_result"
    },
    {
     "data": {
      "text/plain": [
       "<matplotlib.lines.Line2D at 0x154dbae712d0>"
      ]
     },
     "execution_count": 8,
     "metadata": {},
     "output_type": "execute_result"
    },
    {
     "data": {
      "text/plain": [
       "Text(0.5, 0, 'Epoch')"
      ]
     },
     "execution_count": 8,
     "metadata": {},
     "output_type": "execute_result"
    },
    {
     "data": {
      "text/plain": [
       "Text(0, 0.5, 'MI Estimation')"
      ]
     },
     "execution_count": 8,
     "metadata": {},
     "output_type": "execute_result"
    },
    {
     "data": {
      "text/plain": [
       "<matplotlib.legend.Legend at 0x154d9e443c90>"
      ]
     },
     "execution_count": 8,
     "metadata": {},
     "output_type": "execute_result"
    },
    {
     "data": {
      "image/png": "[encoded data removed]",
      "text/plain": [
       "<Figure size 640x480 with 1 Axes>"
      ]
     },
     "metadata": {},
     "output_type": "display_data"
    }
   ],
   "source": [
    "plot_x0 = np.arange(len(plot_loss0))\n",
    "plot_x0=np.array(plot_x0,dtype=np.float32)\n",
    "plot_y0 = np.array(plot_loss0).reshape(-1,)\n",
    "plot_y0=np.array(plot_y0,dtype=np.float32)\n",
    "plt.plot(plot_x0,-plot_y0)\n",
    "plt.axhline(y=mi, color='r', linestyle='--', label=f\"Exact MI = {mi:.2f}\")\n",
    "plt.xlabel(\"Epoch\")\n",
    "plt.ylabel(\"MI Estimation\")\n",
    "plt.legend()\n",
    "\n"
   ]
  },
  {
   "cell_type": "code",
   "execution_count": 12,
   "id": "d50e7509-ffba-436a-b510-eba6e46716d9",
   "metadata": {},
   "outputs": [
    {
     "data": {
      "text/plain": [
       "0.6871388"
      ]
     },
     "execution_count": 12,
     "metadata": {},
     "output_type": "execute_result"
    }
   ],
   "source": [
    "## The MI estimation at 1499 epoch\n",
    "\n",
    "-plot_y0[1498]"
   ]
  },
  {
   "cell_type": "markdown",
   "id": "8e2d5f9b-be43-4a77-a525-8977d3d73a56",
   "metadata": {},
   "source": [
    "## Implementing on GPU to Speed up the computation"
   ]
  },
  {
   "cell_type": "code",
   "execution_count": 27,
   "id": "ea06589e-d75e-4a31-b89c-b0d31229293e",
   "metadata": {},
   "outputs": [
    {
     "name": "stderr",
     "output_type": "stream",
     "text": [
      "100%|██████████| 1500/1500 [00:13<00:00, 112.12it/s]\n"
     ]
    }
   ],
   "source": [
    "# MI estimation on GPU using MINE paper (the Best)\n",
    "class ConcatLayer(nn.Module):\n",
    "    def __init__(self, dim=1):\n",
    "        super().__init__()\n",
    "        self.dim = dim\n",
    "\n",
    "    def forward(self, x, y):\n",
    "        return torch.cat((x, y), self.dim)\n",
    "\n",
    "class CustomSequential(nn.Sequential):\n",
    "    def forward(self, *input):\n",
    "        for module in self._modules.values():\n",
    "            if isinstance(input, tuple):\n",
    "                input = module(*input)\n",
    "            else:\n",
    "                input = module(input)\n",
    "        return input\n",
    "\n",
    "class T(nn.Module):\n",
    "    def __init__(self, x_dim, z_dim):\n",
    "        super().__init__()\n",
    "        self.layers = CustomSequential(ConcatLayer(), nn.Linear(x_dim + z_dim, 400),\n",
    "                                       nn.ReLU(),\n",
    "                                       nn.Linear(400, 400),\n",
    "                                       nn.ReLU(),\n",
    "                                       nn.Linear(400, 400),\n",
    "                                       nn.ReLU(),\n",
    "                                       nn.Linear(400, 1))\n",
    "\n",
    "    def forward(self, x, z):\n",
    "        return self.layers(x, z)\n",
    "\n",
    "#----End of defining network T\n",
    "#\n",
    "\n",
    "#.............\n",
    "#>>>> Making T-network using Convolutional networks:\n",
    "class T_network_Conv(nn.Module):\n",
    "    def __init__(self, z_dim):\n",
    "        super().__init__()\n",
    "        self.conv1 = nn.Conv2d(1, 16, kernel_size=5,\n",
    "                               stride=2, padding=2, bias=False)\n",
    "        self.conv2 = nn.Conv2d(16, 32, kernel_size=5,\n",
    "                               stride=2, padding=2, bias=False)\n",
    "        self.conv3 = nn.Conv2d(32, 64, kernel_size=5,\n",
    "                               stride=2, padding=2, bias=False)\n",
    "\n",
    "        self.fc1 = nn.Linear(8 * 8 * 64, 1)\n",
    "\n",
    "        self.z_linear1 = nn.Linear(z_dim, 16)\n",
    "        self.z_linear2 = nn.Linear(z_dim, 32)\n",
    "        self.z_linear3 = nn.Linear(z_dim, 64)\n",
    "\n",
    "    def xz_block(self, x, z, x_layer, z_layer):\n",
    "        x_out = x_layer(x)\n",
    "        z_map = z_layer(z).unsqueeze(-1).unsqueeze(-1).expand_as(x_out)\n",
    "        return F.elu(x_out + z_map)\n",
    "\n",
    "    def forward(self, x, z):\n",
    "        x = self.xz_block(x, z, self.conv1, self.z_linear1)\n",
    "        x = self.xz_block(x, z, self.conv2, self.z_linear2)\n",
    "        x = self.xz_block(x, z, self.conv3, self.z_linear3)\n",
    "\n",
    "        x = x.view(x.size(0), -1)\n",
    "        return self.fc1(x)\n",
    "\n",
    "#----End of defining T_network_Conv\n",
    "#|||||||||||||||||||||||||||||\n",
    "\n",
    "KL=True\n",
    "JS=False\n",
    "dim1=1 #1000 #4096\n",
    "dim2=1 #1000 # 1000\n",
    "#dim=1000\n",
    "n_epoch =1500#500\n",
    "data_size = 16  # Also works well for size=4\n",
    "Tmodel=T(dim1,dim2).cuda()  # Add .cuda() to move the Tmodel to GPU\n",
    "#Tmodel_conv=T_network_Conv(dim2).cuda()\n",
    "optimizer = torch.optim.Adam(Tmodel.parameters(), lr=0.0002)\n",
    "\n",
    "# Active when use 'Tmodel_conv'\n",
    "#optimizer = torch.optim.Adam(Tmodel_conv.parameters(), lr=0.0002)\n",
    "\n",
    "plot_loss0 = []\n",
    "\n",
    "for epoch in tqdm(range(n_epoch)):\n",
    "    x_sample= gen_x() #np.random.normal(0.,1.,[data_size,dim1])#joint_samples[:, 0].reshape(data_size,1)#gen_x()\n",
    "    y_sample= gen_y(x_sample) #np.random.normal(0.,1.,[data_size,dim2])#gen_y(x_sample)\n",
    "    y_shuffle=np.random.permutation(y_sample)\n",
    "\n",
    "    x_sample = Variable(torch.from_numpy(x_sample).type(torch.FloatTensor).cuda(), requires_grad = True)  # Add .cuda() to move input variables to GPU\n",
    "    y_sample = Variable(torch.from_numpy(y_sample).type(torch.FloatTensor).cuda(), requires_grad = True)\n",
    "    y_shuffle = Variable(torch.from_numpy(y_shuffle).type(torch.FloatTensor).cuda(), requires_grad = True)\n",
    "\n",
    "    pred_xy = Tmodel(x_sample, y_sample) #Tmodel_conv(x_sample.reshape(data_size,1,64,64),y_sample) #Tmodel(x_sample, y_sample)\n",
    "    pred_x_y = Tmodel(x_sample, y_shuffle) #Tmodel_conv(x_sample.reshape(data_size,1,64,64),y_shuffle) #Tmodel(x_sample, y_shuffle)\n",
    "\n",
    "    if KL:\n",
    "        ret = torch.mean(pred_xy) - (torch.logsumexp(pred_x_y,0)-np.log(pred_x_y.shape[0]))\n",
    "        loss = - ret  # maximize\n",
    "    if JS:\n",
    "        ret = torch.mean(-F.softplus(-pred_xy, beta=1, threshold=20)+np.log(2)) - torch.mean(F.softplus(-pred_x_y, beta=1, threshold=20)-np.log(2)+pred_x_y)\n",
    "        loss = - ret  # maximize\n",
    "    plot_loss0.append(loss.data.cpu().numpy())  # Add .cpu() to move the loss back to CPU\n",
    "    Tmodel.zero_grad()\n",
    "    #Tmodel_conv.zero_grad()\n",
    "    bdb.set_trace()\n",
    "    loss.backward()\n",
    "    optimizer.step()"
   ]
  },
  {
   "cell_type": "code",
   "execution_count": null,
   "id": "cd8f8b33-bc68-4e28-8306-3c15e2141954",
   "metadata": {},
   "outputs": [],
   "source": []
  }
 ],
 "metadata": {
  "kernelspec": {
   "display_name": "Python 3 (ipykernel)",
   "language": "python",
   "name": "python3"
  },
  "language_info": {
   "codemirror_mode": {
    "name": "ipython",
    "version": 3
   },
   "file_extension": ".py",
   "mimetype": "text/x-python",
   "name": "python",
   "nbconvert_exporter": "python",
   "pygments_lexer": "ipython3",
   "version": "3.11.5"
  }
 },
 "nbformat": 4,
 "nbformat_minor": 5
}
